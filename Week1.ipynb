{
  "nbformat": 4,
  "nbformat_minor": 0,
  "metadata": {
    "colab": {
      "provenance": [],
      "toc_visible": true,
      "authorship_tag": "ABX9TyPS22+HLU0Ga1qptoLoNLLT",
      "include_colab_link": true
    },
    "kernelspec": {
      "name": "python3",
      "display_name": "Python 3"
    },
    "language_info": {
      "name": "python"
    }
  },
  "cells": [
    {
      "cell_type": "markdown",
      "metadata": {
        "id": "view-in-github",
        "colab_type": "text"
      },
      "source": [
        "<a href=\"https://colab.research.google.com/github/Dhiyun/MVC/blob/main/Week1.ipynb\" target=\"_parent\"><img src=\"https://colab.research.google.com/assets/colab-badge.svg\" alt=\"Open In Colab\"/></a>"
      ]
    },
    {
      "cell_type": "markdown",
      "source": [
        "# **Langkah 1**"
      ],
      "metadata": {
        "id": "1dYYy9-eZFHj"
      }
    },
    {
      "cell_type": "code",
      "execution_count": null,
      "metadata": {
        "id": "tx23T_B6YCvz"
      },
      "outputs": [],
      "source": [
        "import numpy as np\n",
        "import pandas as pd\n",
        "import cv2 as cv\n",
        "from google.colab.patches import cv2_imshow # for image display\n",
        "from skimage import io\n",
        "from skimage import transform\n",
        "from PIL import Image\n",
        "import matplotlib as plt"
      ]
    },
    {
      "cell_type": "markdown",
      "source": [
        "# **Langkah 2**"
      ],
      "metadata": {
        "id": "su-NELUMap5h"
      }
    },
    {
      "cell_type": "code",
      "source": [
        "# Membuat list untuk menyimpan url dari beberapa image\n",
        "urls = [\"https://iiif.lib.ncsu.edu/iiif/0052574/full/800,/e/default.jpg\",\n",
        "        \"https://iiif.lib.ncsu.edu/iiif/0016007/full/800,/e/default.jpg\",\n",
        "        \"https://placekitten.com/800/571\"]\n",
        "# baca dan tampilkan image\n",
        "# loop pada tiap url image, beberapa image dapat disimpan pada list\n",
        "for url in urls:\n",
        "  image = io.imread(url)                          #read image\n",
        "  image = cv.resize(image, (0,0), fx-0.5, fy-0.5) #resize image to half size\n",
        "  image_2 cv.cvtColor(image, cv.COLOR_BGR2RGB)    #convert color to RGB\n",
        "  final_frame = cv.hconcat((image, image_2))      #concatenate image #show image\n",
        "  cv2.imshow(final_frame)\n",
        "  print('\\n')"
      ],
      "metadata": {
        "id": "pKsC76gva3Sc"
      },
      "execution_count": null,
      "outputs": []
    }
  ]
}